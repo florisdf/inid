{
 "cells": [
  {
   "cell_type": "code",
   "execution_count": 1,
   "id": "2b61d938",
   "metadata": {},
   "outputs": [],
   "source": [
    "import sys; sys.path.append('..')\n",
    "\n",
    "import pandas as pd\n",
    "from pathlib import Path\n",
    "\n",
    "from src.data_utils.k_fold import label_based_k_fold_trainval_split\n",
    "\n",
    "\n",
    "data_path = Path('../data/Pokemon/')\n",
    "\n",
    "df_all = pd.DataFrame([\n",
    "    {\n",
    "        'image': str(img_path)[3:],\n",
    "        'label': img_path.parent.name\n",
    "    }\n",
    "    for img_path in data_path.glob('*/*.jpg')\n",
    "])\n",
    "\n",
    "df_train, df_test = label_based_k_fold_trainval_split(\n",
    "    df=df_all,\n",
    "    num_folds=5,\n",
    "    val_fold=0,\n",
    "    seed=15,\n",
    ")\n",
    "\n",
    "df_train.to_csv('../data/train_split.csv', index=False)\n",
    "df_test.to_csv('../data/test_split.csv', index=False)"
   ]
  }
 ],
 "metadata": {
  "kernelspec": {
   "display_name": "Python 3 (ipykernel)",
   "language": "python",
   "name": "python3"
  },
  "language_info": {
   "codemirror_mode": {
    "name": "ipython",
    "version": 3
   },
   "file_extension": ".py",
   "mimetype": "text/x-python",
   "name": "python",
   "nbconvert_exporter": "python",
   "pygments_lexer": "ipython3",
   "version": "3.9.15"
  }
 },
 "nbformat": 4,
 "nbformat_minor": 5
}
